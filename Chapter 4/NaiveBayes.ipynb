{
 "cells": [
  {
   "cell_type": "markdown",
   "metadata": {},
   "source": [
    "# Chapter 4 Naive Bayes\n",
    "\n",
    "Dataset to be used is the famous <font color=#9db2c8>Mnist</font>.\n",
    "\n",
    "Minst is modified to csv and is named data1.rar\n",
    "\n",
    "First we load data and do some preliminaries."
   ]
  },
  {
   "cell_type": "code",
   "execution_count": null,
   "metadata": {},
   "outputs": [],
   "source": [
    "import numpy as np\n",
    "import pandas as pd\n",
    "\n",
    "config = {\n",
    "    'lambda': 0\n",
    "}\n",
    "\n",
    "train = pd.read_csv('mnist_train.csv', header=None)\n",
    "test = pd.read_csv('mnist_test.csv', header=None)\n",
    "\n",
    "train_x = np.array(train.loc[:,1:])\n",
    "train_y = np.array(train.loc[:,0])\n",
    "\n",
    "test_x = np.array(test.loc[:,1:])\n",
    "test_y = np.array(test.loc[:,0])"
   ]
  },
  {
   "cell_type": "markdown",
   "metadata": {},
   "source": [
    "Here we first calculate some probabilities."
   ]
  },
  {
   "cell_type": "code",
   "execution_count": null,
   "metadata": {},
   "outputs": [],
   "source": [
    "P_y = np.bincount(train_y)\n",
    "for index in range(len(P_y)):\n",
    "    P_y[index] += P_y[index] * config['lambda']\n",
    "P_xy = np.zeros([train_x.shape[1],10],dtype=float)\n",
    "\n",
    "temp = np.concatenate((train_x,train_y.reshape(len(train_y),1)),axis=1)\n",
    "\n",
    "for K in range(10):\n",
    "    temp_K = temp[temp[:,784] == K]\n",
    "    for a in range(train_x.shape[1]):        \n",
    "        P_xy[a,K] = np.count_nonzero(temp_K[:,a] > 0) + config['lambda']\n",
    "        \n",
    "P_xy = P_xy / P_y\n",
    "P_y = P_y / len(train_y)"
   ]
  },
  {
   "cell_type": "markdown",
   "metadata": {},
   "source": [
    "Now we shall start to predict."
   ]
  },
  {
   "cell_type": "code",
   "execution_count": null,
   "metadata": {},
   "outputs": [],
   "source": [
    "errors = np.zeros(10)\n",
    "\n",
    "for data in range(test_x.shape[0]):\n",
    "    p = np.zeros(10)\n",
    "    \n",
    "    for K in range(10):\n",
    "        p[K] = P_y[K]\n",
    "        for i in range(test_x.shape[1]):\n",
    "            if test_x[data,i] > 0:\n",
    "                p[K] *= P_xy[i,K]\n",
    "            else:\n",
    "                p[K] *= 1 - P_xy[i,K]\n",
    "    y = np.argmax(p)\n",
    "    \n",
    "    if y != test_y[data]:\n",
    "            errors[test_y[data]] += 1\n",
    "    print(f\"Point {data + 1} value : {test_y[data]} prediction : {y}\")   \n",
    "        \n",
    "        \n",
    "            \n",
    "print(f\"acc : {1 - (np.sum(errors) / len(test_y))}\")       \n",
    "        \n",
    "    \n",
    "    "
   ]
  },
  {
   "cell_type": "code",
   "execution_count": null,
   "metadata": {},
   "outputs": [],
   "source": [
    "import matplotlib.pyplot as plt\n",
    "\n",
    "\n",
    "index = np.array([0,1,2,3,4,5,6,7,8,9])\n",
    "values = np.zeros(10)\n",
    "errors = errors.reshape(10)\n",
    "\n",
    "\n",
    "for K in range(10):\n",
    "    values[K] = test_y[test_y == K].shape[0]\n",
    "\n",
    "\n",
    "\n",
    "plt.bar(x = index,height=values, label='Values',alpha=0.8,color=\"#a0c69d\")\n",
    "plt.bar(x = index,height=errors, label='Errors',alpha=0.8,color=\"#ca5763\")\n",
    "plt.xticks(range(10))\n",
    "plt.xlabel(\"Class\")\n",
    "plt.ylabel(\"Counts\")\n",
    "plt.title(\"Counts of error prediction\")\n",
    "plt.legend()\n",
    "\n",
    "plt.show()"
   ]
  }
 ],
 "metadata": {
  "kernelspec": {
   "display_name": "Python 3",
   "language": "python",
   "name": "python3"
  },
  "language_info": {
   "codemirror_mode": {
    "name": "ipython",
    "version": 3
   },
   "file_extension": ".py",
   "mimetype": "text/x-python",
   "name": "python",
   "nbconvert_exporter": "python",
   "pygments_lexer": "ipython3",
   "version": "3.11.4"
  }
 },
 "nbformat": 4,
 "nbformat_minor": 2
}
