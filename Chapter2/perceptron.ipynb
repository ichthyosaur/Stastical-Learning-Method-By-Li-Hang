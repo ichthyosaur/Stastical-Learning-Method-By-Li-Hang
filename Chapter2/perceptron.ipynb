{
 "cells": [
  {
   "cell_type": "markdown",
   "metadata": {},
   "source": [
    "### Chapter 2 Perceptron\n",
    "\n",
    "Dataset to be used is the famous <font color=#686177>Mnist</font>.\n",
    "\n",
    "Minst is modified to csv and is named data1.rar\n",
    "\n",
    "We will implement the orginal form of the perceptron. The model is\n",
    "$$\n",
    "f(x) = sign(w \\cdot x + b)\n",
    "$$\n",
    "\n",
    "First we load data and do some preliminaries."
   ]
  },
  {
   "cell_type": "code",
   "execution_count": null,
   "metadata": {},
   "outputs": [],
   "source": [
    "import numpy as np\n",
    "import pandas as pd\n",
    "\n",
    "config = {\n",
    "    'lr' : 0.01,\n",
    "    'loops' : 10000,\n",
    "    'division' : 1,\n",
    "    'SGD_points' : 1000,\n",
    "}\n",
    "\n",
    "train = pd.read_csv('mnist_train.csv', header=None)\n",
    "test = pd.read_csv('mnist_test.csv', header=None)\n",
    "\n",
    "train_x = np.array(train.loc[:,1:])\n",
    "train_y = np.array(train.loc[:,0])\n",
    "\n",
    "test_x = np.array(test.loc[:,1:])\n",
    "test_y = np.array(test.loc[:,0])\n",
    "\n",
    "for i, x in np.ndenumerate(train_y):\n",
    "    if x > config['division']:\n",
    "        train_y[i] = -1\n",
    "    else:\n",
    "        train_y[i] = 1\n",
    "        \n",
    "for i, x in np.ndenumerate(test_y):\n",
    "    if x > config['division']:\n",
    "        test_y[i] = -1\n",
    "    else:\n",
    "        test_y[i] = 1\n",
    "\n",
    "w = np.ones(785)\n",
    "\n"
   ]
  },
  {
   "cell_type": "markdown",
   "metadata": {},
   "source": [
    "Here is the proceptron model. And a function to update parameters. Here we take SGD.\n",
    "To notice, we update parameter by\n",
    "\n",
    "$\n",
    "    \\nabla_w L(w,b) = \\sum_{x_i \\in M} y_i x_i\n",
    "$\n",
    "\n",
    "$\n",
    "    \\nabla_b L(w,b) = \\sum_{x_i \\in M} y_i\n",
    "$"
   ]
  },
  {
   "cell_type": "code",
   "execution_count": null,
   "metadata": {},
   "outputs": [],
   "source": [
    "def perceptron(points,w):\n",
    "    result = np.sign(points @ w[:-1] + w[-1])\n",
    "    \n",
    "    return result\n",
    "\n",
    "def update_w(data,real,w):\n",
    "    wrong_points = []\n",
    "    \n",
    "    pred = perceptron(data,w)\n",
    "    temp = pred * real\n",
    "    \n",
    "    \n",
    "    for i ,x  in np.ndenumerate(temp):\n",
    "        if (x < 0):\n",
    "            wrong_points.append(i[0])\n",
    "            \n",
    "            \n",
    "    high = len(wrong_points)\n",
    "    \n",
    "    if high > config['SGD_points']:\n",
    "        rand = np.zeros(config['SGD_points'])\n",
    "\n",
    "        \n",
    "        for j in range(0,config['SGD_points']):\n",
    "            rand[j] = wrong_points[np.random.randint(low = 0,high=len(wrong_points))]\n",
    "        \n",
    "\n",
    "                   \n",
    "        for j in range(0,config['SGD_points']):    \n",
    "            w[:-1] = w[:-1] + config['lr'] * real[int(rand[j])] * data[int(rand[j])]\n",
    "            w[-1] = w[-1] + config['lr'] * real[int(rand[j])]\n",
    "    else:\n",
    "        return False,0\n",
    "    \n",
    "    return True,high\n",
    "    \n",
    "def count_wrong_points(data,real,w):\n",
    "    pred = perceptron(data,w)\n",
    "    temp = pred * real\n",
    "    \n",
    "    count = 0\n",
    "    \n",
    "    for i in temp:\n",
    "        if i < 0:\n",
    "            count += 1\n",
    "            \n",
    "    return count\n",
    "    "
   ]
  },
  {
   "cell_type": "markdown",
   "metadata": {},
   "source": [
    "Here is the training loop."
   ]
  },
  {
   "cell_type": "code",
   "execution_count": null,
   "metadata": {},
   "outputs": [],
   "source": [
    "len_train = len(train_y)\n",
    "len_test = len(test_y)\n",
    "\n",
    "for i in range(0,config['loops']):\n",
    "    flag,errors = update_w(train_x,train_y,w)\n",
    "    if(flag):\n",
    "        print(f'Loop{i} : acc = {1 - errors/len_train}, errors points: {errors}' )\n",
    "    else:\n",
    "        print(\"Done earlier. acc is 1 now.\")\n",
    "test_errors = count_wrong_points(test_x,test_y,w)    \n",
    "print(f'On test set we have acc = {1 - test_errors/len_test} with error points:{test_errors}' )\n",
    "    \n"
   ]
  },
  {
   "cell_type": "markdown",
   "metadata": {},
   "source": [
    "At last, we could modify this model by changing values in <font color=Green>Config</font>."
   ]
  }
 ],
 "metadata": {
  "kernelspec": {
   "display_name": "Python 3",
   "language": "python",
   "name": "python3"
  },
  "language_info": {
   "codemirror_mode": {
    "name": "ipython",
    "version": 3
   },
   "file_extension": ".py",
   "mimetype": "text/x-python",
   "name": "python",
   "nbconvert_exporter": "python",
   "pygments_lexer": "ipython3",
   "version": "3.11.4"
  }
 },
 "nbformat": 4,
 "nbformat_minor": 2
}
