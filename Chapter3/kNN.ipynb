{
 "cells": [
  {
   "cell_type": "markdown",
   "metadata": {},
   "source": [
    "# Chapter 3 K-Nearest Neighbor\n",
    "\n",
    "Dataset to be used is the famous <font color=#9db2c8>Mnist</font>.\n",
    "\n",
    "Minst is modified to csv and is named data1.rar\n",
    "\n",
    "First we load data and do some preliminaries.\n",
    "\n",
    "It is known that a distance space could be induced by a norm space, so we shall use 'norm' as the substitution of 'distance'.\n",
    "\n",
    "We may assume x $\\in R^n$, which is a Euclid space with $L^p $-norm.\n",
    "\n",
    "p in <font color=#9db2c8>config</font> represents 'p' of $L^p $-norm.\n",
    "\"numbers\" means points that you want to calculate. Calculating all points would take a considerable time."
   ]
  },
  {
   "cell_type": "code",
   "execution_count": null,
   "metadata": {},
   "outputs": [],
   "source": [
    "import numpy as np\n",
    "import pandas as pd\n",
    "\n",
    "config = {\n",
    "    'p' : 2,\n",
    "    'k' : 50,\n",
    "    'numbers' : 100\n",
    "}\n",
    "\n",
    "train = pd.read_csv('mnist_train.csv', header=None)\n",
    "test = pd.read_csv('mnist_test.csv', header=None)\n",
    "\n",
    "train_x = np.array(train.loc[:,1:])\n",
    "train_y = np.array(train.loc[:,0])\n",
    "\n",
    "test_x = np.array(test.loc[:,1:])\n",
    "test_y = np.array(test.loc[:,0])"
   ]
  },
  {
   "cell_type": "markdown",
   "metadata": {},
   "source": [
    "Besides, we shall define $L^p $-norm here.\n",
    "\n",
    "When p = 2, the distance is named \"Euclidean distance\".\n",
    "\n",
    "When p = 1, the distance is named \"Manhattan distance\".\n",
    "\n",
    "Set p = 'infty' to use $L^{\\infty}$-norm.\n",
    "\n",
    "We shall try to avoid using 'for', but use functions of numpy to accelearate the calculation."
   ]
  },
  {
   "cell_type": "code",
   "execution_count": null,
   "metadata": {},
   "outputs": [],
   "source": [
    "def p_norm(x1,x2):\n",
    "    p = config['p']\n",
    "    norm = 0\n",
    "    if p == 1:\n",
    "        norm = np.sum(np.abs(x1 - x2))\n",
    "            \n",
    "        return norm\n",
    "    elif p == 'infty':\n",
    "        ls = np.abs(x1 - x2)\n",
    "        norm = np.max(ls)\n",
    "        \n",
    "        return norm\n",
    "    else:\n",
    "        norm = np.power(np.abs(x1 - x2), p)   \n",
    "            \n",
    "        norm = np.sum(norm) ** (1 / p)\n",
    "        return norm     \n",
    "    "
   ]
  },
  {
   "cell_type": "markdown",
   "metadata": {},
   "source": [
    "The next we shall try the model and calculate accuracy.\n",
    "Notice that there are 'train_y' points to be used to calculate the norm.\n",
    "\n",
    "np.argsort() will sort the array and present the index by order.\n",
    "\n",
    "np.bincount() will count times of each lable.\n",
    "\n",
    "np.argmax() provides the biggest element's value.\n",
    "\n",
    "So argmax(bincount()) returns the value that appeared most times. "
   ]
  },
  {
   "cell_type": "code",
   "execution_count": null,
   "metadata": {},
   "outputs": [],
   "source": [
    "distance = np.zeros(len(train_y))\n",
    "count = 0\n",
    "for j in range(config['numbers']):\n",
    "\n",
    "    for i in range(len(train_y)):\n",
    "        distance[i] = p_norm(test_x[j],train_x[i])\n",
    "        \n",
    "    k_nearest_neighbors = train_y[distance.argsort()[0:config['k']]]\n",
    "    predict = np.argmax(np.bincount(k_nearest_neighbors))\n",
    "    if (predict == test_y[j]):\n",
    "        count += 1\n",
    "    print(f\"Point {j + 1} with y : {test_y[j]} and prediction : {predict}\")\n",
    "    \n",
    "print(f\"Acc is : {count/config['numbers']}\")"
   ]
  }
 ],
 "metadata": {
  "kernelspec": {
   "display_name": "Python 3",
   "language": "python",
   "name": "python3"
  },
  "language_info": {
   "codemirror_mode": {
    "name": "ipython",
    "version": 3
   },
   "file_extension": ".py",
   "mimetype": "text/x-python",
   "name": "python",
   "nbconvert_exporter": "python",
   "pygments_lexer": "ipython3",
   "version": "3.11.4"
  }
 },
 "nbformat": 4,
 "nbformat_minor": 2
}
